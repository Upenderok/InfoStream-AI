{
 "cells": [
  {
   "cell_type": "code",
   "execution_count": 8,
   "id": "6c546811",
   "metadata": {},
   "outputs": [
    {
     "name": "stdout",
     "output_type": "stream",
     "text": [
      "Working dir: d:\\VisualStudioCode\\InfoStream-AI\\notebooks\n"
     ]
    }
   ],
   "source": [
    "import os\n",
    "print(\"Working dir:\", os.getcwd())"
   ]
  },
  {
   "cell_type": "code",
   "execution_count": 12,
   "id": "251222d1",
   "metadata": {},
   "outputs": [
    {
     "name": "stdout",
     "output_type": "stream",
     "text": [
      "Found 255 chunk files. Showing 3 samples:\n",
      "\n",
      "../chunks\\chunk_0.json → 96 words\n",
      "User Agreement 1. Introduction This User Agreement, the Mobile Application Terms of Use, and all policies and additional terms posted on and in our sites, applications, tools, and services (collective…\n",
      "\n",
      "../chunks\\chunk_1.json → 206 words\n",
      "User Agreement 1. Introduction This User Agreement, the Mobile Application Terms of Use, and all policies and additional terms posted on and in our sites, applications, tools, and services (collective…\n",
      "\n",
      "../chunks\\chunk_10.json → 489 words\n",
      "User Agreement 1. Introduction This User Agreement, the Mobile Application Terms of Use, and all policies and additional terms posted on and in our sites, applications, tools, and services (collective…\n",
      "\n"
     ]
    }
   ],
   "source": [
    "import json, glob\n",
    "\n",
    "# Change 'chunks/' to '../chunks/'\n",
    "sample = glob.glob('../chunks/chunk_*.json') # This is the crucial change\n",
    "print(f\"Found {len(sample)} chunk files. Showing 3 samples:\\n\")\n",
    "for path in sample[:3]:\n",
    "    with open(path, 'r', encoding='utf-8') as f:\n",
    "        obj = json.load(f)\n",
    "    text = obj['text']\n",
    "    print(f\"{path} → {len(text.split())} words\")\n",
    "    print(text[:200].strip() + \"…\\n\")"
   ]
  }
 ],
 "metadata": {
  "kernelspec": {
   "display_name": ".venv",
   "language": "python",
   "name": "python3"
  },
  "language_info": {
   "codemirror_mode": {
    "name": "ipython",
    "version": 3
   },
   "file_extension": ".py",
   "mimetype": "text/x-python",
   "name": "python",
   "nbconvert_exporter": "python",
   "pygments_lexer": "ipython3",
   "version": "3.12.4"
  }
 },
 "nbformat": 4,
 "nbformat_minor": 5
}
